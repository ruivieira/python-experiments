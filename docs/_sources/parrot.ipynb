{
 "cells": [
  {
   "cell_type": "markdown",
   "metadata": {},
   "source": [
    "# parrot\n",
    "\n",
    "Read Twitter's API tokens."
   ]
  },
  {
   "cell_type": "code",
   "execution_count": 1,
   "metadata": {},
   "outputs": [],
   "source": [
    "import configparser\n",
    "\n",
    "config = configparser.ConfigParser()\n",
    "config.read(\"../../../../python/python-experiments/twitter.tokens\")\n",
    "\n",
    "api_key = config[\"secrets\"][\"api_key\"]\n",
    "api_secret = config[\"secrets\"][\"api_secret\"]\n",
    "consumer_token = config[\"secrets\"][\"consumer_token\"]\n",
    "consumer_secret = config[\"secrets\"][\"consumer_secret\"]"
   ]
  },
  {
   "cell_type": "markdown",
   "metadata": {},
   "source": [
    "Build the API object."
   ]
  },
  {
   "cell_type": "code",
   "execution_count": 2,
   "metadata": {},
   "outputs": [],
   "source": [
    "import tweepy\n",
    "\n",
    "auth = tweepy.OAuthHandler(api_key, api_secret)\n",
    "auth.set_access_token(consumer_token, consumer_secret)\n",
    "\n",
    "api = tweepy.API(auth)"
   ]
  },
  {
   "cell_type": "markdown",
   "metadata": {},
   "source": [
    "Get my own tweets."
   ]
  },
  {
   "cell_type": "code",
   "execution_count": 3,
   "metadata": {},
   "outputs": [],
   "source": [
    "public_tweets = api.user_timeline(id=\"ruimvieira\", count=1000)"
   ]
  },
  {
   "cell_type": "code",
   "execution_count": 4,
   "metadata": {},
   "outputs": [
    {
     "name": "stdout",
     "output_type": "stream",
     "text": [
      "@nmcl From experience: opening a can of tuna.\n",
      "Part 2 https://t.co/VlPRvFoktJ\n",
      "R. Sikoryak’s “Good ol’ Gregor Brown” - Franz Kafka meets Charlie Brown. https://t.co/eawp7Ejjqm\n",
      "Rust memory container cheat-sheet https://t.co/VcDsKGtCaE\n",
      "Stumbled into someone's peculiar hobby: turning Genesis album covers into vintage CS/computing book covers. https://t.co/PT25wuNsGH\n",
      "@dumpsternaut @mycoliza I'm trying to be neutral and understand why this is a bad idea.\n",
      "\n",
      "The discussion seems to be… https://t.co/IKR10se38U\n",
      "@dumpsternaut @mycoliza Yes, but if you don't provide much info, it will just load whatever is available under that… https://t.co/C5Rshhgbyv\n",
      "@dumpsternaut @mycoliza Only if you specify the path. If you just pass the DLL name, it seems to work like describe… https://t.co/kBhpnffkvD\n",
      "@mycoliza So just like LoadLibrary on Windows?\n",
      "RT @PaulJCormier: .@RedHat stands in solidarity with the Black community - our colleagues, customers, partners and neighbors - and all who…\n"
     ]
    }
   ],
   "source": [
    "for tweet in public_tweets[:10]:\n",
    "    print(tweet.text)"
   ]
  },
  {
   "cell_type": "markdown",
   "metadata": {},
   "source": [
    "Split in sentences."
   ]
  },
  {
   "cell_type": "code",
   "execution_count": 5,
   "metadata": {},
   "outputs": [],
   "source": [
    "text = []\n",
    "\n",
    "for tweet in public_tweets:\n",
    "    text.extend(tweet.text.split(\"\\n\"))"
   ]
  },
  {
   "cell_type": "markdown",
   "metadata": {},
   "source": [
    "Build a Markov chain with punctuated sentences (better results)"
   ]
  },
  {
   "cell_type": "code",
   "execution_count": 6,
   "metadata": {},
   "outputs": [],
   "source": [
    "import markovify\n",
    "\n",
    "text_model = markovify.Text(\". \".join(text))"
   ]
  },
  {
   "cell_type": "markdown",
   "metadata": {},
   "source": [
    "Generate 20 new tweets."
   ]
  },
  {
   "cell_type": "code",
   "execution_count": 7,
   "metadata": {},
   "outputs": [
    {
     "name": "stdout",
     "output_type": "stream",
     "text": [
      "- \t If you just pass the DLL name, it seems to have disappeared from “prefere… https://t.co/sbXxUXThy0.\n",
      "- \t My hotel room has a `language-rust` now :D. . https://t.co/u4zRPTowRl.\n",
      "- \t Weekend contrite lessons: setting up multiple accounts on Twitter and building your own social media data is hilarious.\n",
      "- \t @otomojamjam @tusk_music #tuskfestival https://t.co/joUu2dJ1SE.\n",
      "- \t @dumpsternaut @mycoliza Yes, but if you don't really r… https://t.co/DXMWJT1i7v.\n",
      "- \t RT @stephen_collins: Marr-droid knows how to separate the art from the internet?. The start of a Korean Sunday lunch with the family. https://t.co/WWuzA5LTom.\n",
      "- \t The @fsf at @devconf_us #Boston #defineFUTURE https://t.co/PGYj7BorFz.\n",
      "- \t @dumpsternaut @mycoliza Yes, but if you specify the path.\n",
      "- \t Jonh Wendell talking about MR from a user perspective at the third #uksystems.\n",
      "- \t @dumpsternaut @mycoliza Yes, but if you specify the path.\n",
      "- \t The option seems to work like describe… https://t.co/kBhpnffkvD.\n",
      "- \t My hotel room has a record collection and Pink Floyd’s 1967 “Interstellar Overdri… https://t.co/e5DQX89R1T.\n",
      "- \t @dumpsternaut @mycoliza Only if you don't really r… https://t.co/DXMWJT1i7v.\n",
      "- \t My hotel room has a `language-rust` now :D. . https://t.co/u4zRPTowRl.\n",
      "- \t @StephanieMDavis Hi @StephanieMDavis!. The Open Data Hub in the back of the New Year and what a session it is.\n",
      "- \t See https://t.co/q4idrQRyNq for more, or visit https://t…. @eliistender10 I would be delighted, that would happen..\n",
      "- \t RT @becky_simmonds: Giving my talk on intelligent applications on #OpenShift . https://t…. @MendeleySupport where can I check my account’s available space?\n"
     ]
    }
   ],
   "source": [
    "for i in range(20):\n",
    "    tweet = text_model.make_sentence()\n",
    "    if tweet:\n",
    "        print(f\"- \\t {tweet}\")"
   ]
  },
  {
   "cell_type": "code",
   "execution_count": null,
   "metadata": {},
   "outputs": [],
   "source": []
  }
 ],
 "metadata": {
  "kernelspec": {
   "display_name": "python-experiments-book",
   "language": "python",
   "name": "python-experiments-book"
  },
  "language_info": {
   "codemirror_mode": {
    "name": "ipython",
    "version": 3
   },
   "file_extension": ".py",
   "mimetype": "text/x-python",
   "name": "python",
   "nbconvert_exporter": "python",
   "pygments_lexer": "ipython3",
   "version": "3.8.5"
  }
 },
 "nbformat": 4,
 "nbformat_minor": 4
}
